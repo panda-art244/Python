{
 "cells": [
  {
   "cell_type": "code",
   "execution_count": 8,
   "metadata": {},
   "outputs": [
    {
     "name": "stdout",
     "output_type": "stream",
     "text": [
      "{0: [], 1: [0], 2: [0, 1, 1], 3: [0, 1, 1, 2], 4: [0, 1, 1, 2, 3], 5: [0, 1, 1, 2, 3]}\n"
     ]
    }
   ],
   "source": [
    "def fibonacci_dict(n):\n",
    "    fib = [0, 1]\n",
    "    while fib[-1] + fib[-2] < n:\n",
    "        fib.append(fib[-1] + fib[-2])\n",
    "    \n",
    "    result = {}\n",
    "    for x in range(n + 1):\n",
    "        result[x] = [f for f in fib if f < x]\n",
    "    \n",
    "    return result\n",
    "\n",
    "print(fibonacci_dict(5))\n"
   ]
  }
 ],
 "metadata": {
  "kernelspec": {
   "display_name": "Python 3",
   "language": "python",
   "name": "python3"
  },
  "language_info": {
   "codemirror_mode": {
    "name": "ipython",
    "version": 3
   },
   "file_extension": ".py",
   "mimetype": "text/x-python",
   "name": "python",
   "nbconvert_exporter": "python",
   "pygments_lexer": "ipython3",
   "version": "3.13.0"
  }
 },
 "nbformat": 4,
 "nbformat_minor": 2
}
