{
 "cells": [
  {
   "cell_type": "code",
   "execution_count": 6,
   "id": "74e3b11d-b2e5-4f35-a093-639148104dfa",
   "metadata": {},
   "outputs": [
    {
     "name": "stdout",
     "output_type": "stream",
     "text": [
      "Два корня, x1 = 3.732050807568877, x2 = 0.2679491924311228\n"
     ]
    }
   ],
   "source": [
    "from math import sqrt\n",
    "\n",
    "def discriminant(a, b, c):\n",
    "    return b ** 2 - 4 * a * c  # Исправлено: b ** 2 вместо b * 2\n",
    "\n",
    "def solve(a, b, c):\n",
    "    d = discriminant(a, b, c)\n",
    "    if d < 0:\n",
    "        print('Корней нет')\n",
    "    elif d == 0:\n",
    "        print(f'Один корень, x = {-b / (2 * a)}')  \n",
    "    else:\n",
    "        x1 = (-b + sqrt(d)) / (2 * a)  \n",
    "        x2 = (-b - sqrt(d)) / (2 * a) \n",
    "        print(f'Два корня, x1 = {x1}, x2 = {x2}')\n",
    "\n",
    "# Тестируем функцию\n",
    "solve(1, -4, 1)"
   ]
  },
  {
   "cell_type": "code",
   "execution_count": null,
   "id": "c3b01f62-177b-4e10-8c7a-3336865c706e",
   "metadata": {},
   "outputs": [],
   "source": []
  }
 ],
 "metadata": {
  "kernelspec": {
   "display_name": "Python 3 (ipykernel)",
   "language": "python",
   "name": "python3"
  },
  "language_info": {
   "codemirror_mode": {
    "name": "ipython",
    "version": 3
   },
   "file_extension": ".py",
   "mimetype": "text/x-python",
   "name": "python",
   "nbconvert_exporter": "python",
   "pygments_lexer": "ipython3",
   "version": "3.13.0"
  }
 },
 "nbformat": 4,
 "nbformat_minor": 5
}
